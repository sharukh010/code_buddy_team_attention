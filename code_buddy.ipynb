{
 "cells": [
  {
   "cell_type": "code",
   "execution_count": 82,
   "id": "d43f38f2-7e97-4261-86bc-a2d836e2d316",
   "metadata": {},
   "outputs": [
    {
     "data": {
      "text/plain": [
       "True"
      ]
     },
     "execution_count": 82,
     "metadata": {},
     "output_type": "execute_result"
    }
   ],
   "source": [
    "from dotenv import load_dotenv\n",
    "load_dotenv()"
   ]
  },
  {
   "cell_type": "code",
   "execution_count": 83,
   "id": "828f9eeb-6cac-40b0-b3ad-5f221d499274",
   "metadata": {},
   "outputs": [],
   "source": [
    "from typing import Dict, Literal, cast,Annotated\n",
    "from typing_extensions import List,TypedDict\n",
    "from langchain_core.messages import AIMessage\n",
    "from langchain_core.runnables import RunnableConfig\n",
    "from langgraph.graph import StateGraph,END,START\n",
    "from langchain_core.documents import Document\n",
    "from langgraph.graph.message import add_messages\n",
    "from langgraph.prebuilt import ToolNode,tools_condition\n",
    "from langchain_core.prompts import ChatPromptTemplate\n",
    "from langchain_community.tools import TavilySearchResults"
   ]
  },
  {
   "cell_type": "code",
   "execution_count": 84,
   "id": "360d2688-afd4-4c12-9bbb-f1e2cdbb6ed8",
   "metadata": {},
   "outputs": [],
   "source": [
    "from langchain_pinecone import PineconeVectorStore\n",
    "from pinecone import Pinecone\n",
    "from langchain_cohere import CohereEmbeddings\n",
    "from langchain import hub\n",
    "from langgraph.types import Command\n",
    "from langchain_cohere import ChatCohere\n",
    "from langgraph.prebuilt import ToolNode, tools_condition\n",
    "from langgraph.checkpoint.memory import MemorySaver"
   ]
  },
  {
   "cell_type": "code",
   "execution_count": 85,
   "id": "09cff34e-dedb-4ad7-8161-913cea5cfe4c",
   "metadata": {},
   "outputs": [
    {
     "name": "stderr",
     "output_type": "stream",
     "text": [
      "c:\\Users\\Sharukhan\\Desktop\\code_buddy_team_attention\\myenv\\Lib\\site-packages\\langsmith\\client.py:272: LangSmithMissingAPIKeyWarning: API key must be provided when using hosted LangSmith API\n",
      "  warnings.warn(\n"
     ]
    }
   ],
   "source": [
    "pc = Pinecone()\n",
    "index_name = \"react-demo\"\n",
    "\n",
    "index = pc.Index(index_name)\n",
    "\n",
    "embeddings = CohereEmbeddings(model=\"embed-english-v3.0\")\n",
    "vector_store = PineconeVectorStore(embedding=embeddings, index=index)\n",
    "\n",
    "prompt = hub.pull(\"rlm/rag-prompt\")"
   ]
  },
  {
   "cell_type": "code",
   "execution_count": 86,
   "id": "0969ebfc-cf3e-4baa-b279-c3ab4d31da78",
   "metadata": {},
   "outputs": [],
   "source": [
    "from langchain_community.tools import TavilySearchResults,tool\n",
    "\n",
    "search = TavilySearchResults(\n",
    "    max_results=5,\n",
    ")\n",
    "tools = [search]"
   ]
  },
  {
   "cell_type": "code",
   "execution_count": 87,
   "id": "ff3dba00-3567-494e-aa77-70f679bbbb14",
   "metadata": {},
   "outputs": [],
   "source": [
    "from datetime import datetime\n",
    "\n",
    "def get_current_time() -> str:\n",
    "    \"\"\"\n",
    "    use this tool to get the current time\n",
    "    Returns the current time as a string in the format hh:mm:ss.\n",
    "    \"\"\"\n",
    "    return datetime.now().strftime(\"%H:%M:%S\")\n"
   ]
  },
  {
   "cell_type": "code",
   "execution_count": 88,
   "id": "6a231977-240a-46ab-b237-0ab0d52da6b3",
   "metadata": {},
   "outputs": [],
   "source": [
    "\n",
    "def get_current_date() -> str:\n",
    "    \"\"\"\n",
    "    use this tool to get the current date\n",
    "    Returns the current date as a string in the format YYYY-MM-DD.\n",
    "    \"\"\"\n",
    "    return datetime.now().strftime(\"%Y-%m-%d\")\n"
   ]
  },
  {
   "cell_type": "code",
   "execution_count": 89,
   "id": "d581ccc2-f516-4416-b5db-aace841a78c2",
   "metadata": {},
   "outputs": [
    {
     "data": {
      "text/plain": [
       "'2025-05-31'"
      ]
     },
     "execution_count": 89,
     "metadata": {},
     "output_type": "execute_result"
    }
   ],
   "source": [
    "get_current_date()"
   ]
  },
  {
   "cell_type": "code",
   "execution_count": 90,
   "id": "35b82f48-5d26-4823-9d50-d3437094fcf7",
   "metadata": {},
   "outputs": [],
   "source": [
    "llm = ChatCohere(model=\"command-r-plus-08-2024\")\n",
    "\n",
    "embeddings = CohereEmbeddings(model=\"embed-english-v3.0\")"
   ]
  },
  {
   "cell_type": "code",
   "execution_count": null,
   "id": "9ae24247-2aa8-40e3-bc42-6dc2857e983c",
   "metadata": {},
   "outputs": [],
   "source": [
    "class State(TypedDict):\n",
    "    messages:Annotated[list,add_messages]\n",
    "    isRetrieved:bool\n",
    "# Define application steps\n",
    "def react_retrieve(state: State):\n",
    "    retrieved_docs = vector_store.similarity_search(state[\"messages\"][0].content,k=3)\n",
    "    return {\"messages\": \"\\n\\n\".join(retrieved_docs.page_content for doc in state[\"messages\"][1:]),\"isRetrieved\":True}\n",
    "\n",
    "llm_with_tools = llm.bind_tools(tools=[search])\n",
    "\n",
    "def generate(state: State):\n",
    "    print(\"hello\")\n",
    "    if state[\"isRetrieved\"]:\n",
    "        print(state[\"messages\"][1:])\n",
    "        docs_content = \"\\n\\n\".join(doc.content for doc in state[\"messages\"][1:]) \n",
    "        messages = prompt.invoke({\"question\": state[\"messages\"][0], \"context\": docs_content})\n",
    "    else:\n",
    "        messages = prompt.invoke({\"question\": state[\"messages\"][0], \"context\": \"No context available\"})\n",
    "    response = llm_with_tools.invoke(messages)\n",
    "    # state[\"isRetrieved\"] = False\n",
    "    return {\"messages\": response,\"isRetrieved\":False}\n"
   ]
  },
  {
   "cell_type": "code",
   "execution_count": null,
   "id": "8130fbc3-fbed-400f-818f-7bffa1f9986c",
   "metadata": {},
   "outputs": [],
   "source": []
  },
  {
   "cell_type": "code",
   "execution_count": 92,
   "id": "fdfea6cd-b09f-41f9-a8c9-f7a9711ac585",
   "metadata": {},
   "outputs": [],
   "source": [
    "from langgraph.prebuilt import ToolNode\n",
    "tools_node = ToolNode(tools)"
   ]
  },
  {
   "cell_type": "code",
   "execution_count": 93,
   "id": "055778de-54bb-4bde-91d3-51c608202754",
   "metadata": {},
   "outputs": [],
   "source": [
    "from typing import Literal\n",
    "from langchain.prompts import PromptTemplate\n",
    "from langgraph.types import Command\n",
    "import ast\n",
    "\n",
    "# Create a LangChain prompt template with escaped curly braces\n",
    "template = \"\"\"\n",
    "\n",
    "Analyze the user's question and determine whether it requires updated documentation knowledge. Follow these guidelines:\n",
    "\n",
    "1. If the question is about a new feature or recent update in React, return: {{\"retrieve\":\"true\"}}\n",
    "\n",
    "2. If the question is related to React basics, foundational concepts, or general usage, return: {{\"retrieve\":\"false\"}}\n",
    "\n",
    "Question: {question}\n",
    "\n",
    "Your Answer:\n",
    "\"\"\"\n",
    "\n",
    "react_doc_analysis_prompt = PromptTemplate(\n",
    "    input_variables=[\"question\"],\n",
    "    template=template,\n",
    ")\n",
    "\n",
    "prompt_analysis_chain = react_doc_analysis_prompt | llm"
   ]
  },
  {
   "cell_type": "code",
   "execution_count": 94,
   "id": "91b483fb-dd05-426a-93ee-4ac39226ec67",
   "metadata": {},
   "outputs": [],
   "source": [
    "def evaluator(state: State) ->Command[Literal['react_retrieve','generate']]:\n",
    "    result = prompt_analysis_chain.invoke({\"question\":state[\"messages\"]}).content\n",
    "    result = ast.literal_eval(result)\n",
    "    if result['retrieve'] == 'true':\n",
    "    \n",
    "        return Command(\n",
    "            goto=\"react_retrieve\"\n",
    "        )\n",
    "    return Command(\n",
    "        goto=\"generate\"\n",
    "    )\n"
   ]
  },
  {
   "cell_type": "code",
   "execution_count": 95,
   "id": "cd2d971f-b7ee-44ee-86cd-fec9ff546eb0",
   "metadata": {},
   "outputs": [],
   "source": [
    "memory = MemorySaver()"
   ]
  },
  {
   "cell_type": "code",
   "execution_count": 96,
   "id": "77cdab4a-6b39-4043-995f-9a8ff4f104cb",
   "metadata": {},
   "outputs": [],
   "source": [
    "graph_builder = StateGraph(State).add_sequence([react_retrieve,generate])\n",
    "graph_builder.add_node(evaluator)\n",
    "graph_builder.add_edge(START, \"evaluator\")\n",
    "graph_builder.add_node(\"tools\",tools_node)\n",
    "graph_builder.add_conditional_edges(\n",
    "    'generate',\n",
    "    tools_condition,\n",
    "    {\"tools\":\"tools\",END:END}\n",
    ")\n",
    "graph_builder.add_edge(\"tools\",\"generate\")\n",
    "graph = graph_builder.compile(checkpointer=memory)"
   ]
  },
  {
   "cell_type": "code",
   "execution_count": 97,
   "id": "7a0fc6f1-d1d8-4aec-9e94-d2cad57a2a85",
   "metadata": {},
   "outputs": [
    {
     "data": {
      "image/png": "[encoded data removed]",
      "text/plain": [
       "<langgraph.graph.state.CompiledStateGraph object at 0x000001B85B0C6B10>"
      ]
     },
     "execution_count": 97,
     "metadata": {},
     "output_type": "execute_result"
    }
   ],
   "source": [
    "graph"
   ]
  },
  {
   "cell_type": "code",
   "execution_count": 98,
   "id": "2d1db7fd-2e2a-4591-9069-e0f7aa5d396b",
   "metadata": {},
   "outputs": [],
   "source": [
    "config = {\"configurable\": {\"thread_id\": \"1\"}}"
   ]
  },
  {
   "cell_type": "code",
   "execution_count": null,
   "id": "6536d79f-4115-4db2-b5d6-1729c3fbefa5",
   "metadata": {},
   "outputs": [],
   "source": [
    "user_input = \"what is new update in react in 2025?\"\n",
    "\n",
    "# The config is the **second positional argument** to stream() or invoke()!\n",
    "events = graph.stream(\n",
    "    {\"messages\": [(\"user\", user_input)]}, config, stream_mode=\"values\"\n",
    ")\n",
    "for event in events:\n",
    "    event[\"messages\"][-1].pretty_print()"
   ]
  },
  {
   "cell_type": "code",
   "execution_count": null,
   "id": "32ed1cea-a4b4-4a0c-b7f2-d4e9cb879ce7",
   "metadata": {},
   "outputs": [],
   "source": []
  },
  {
   "cell_type": "code",
   "execution_count": null,
   "id": "c7de0630-0ee1-4b8c-a35f-30a61e0e4a2e",
   "metadata": {},
   "outputs": [],
   "source": []
  }
 ],
 "metadata": {
  "kernelspec": {
   "display_name": "myenv",
   "language": "python",
   "name": "python3"
  },
  "language_info": {
   "codemirror_mode": {
    "name": "ipython",
    "version": 3
   },
   "file_extension": ".py",
   "mimetype": "text/x-python",
   "name": "python",
   "nbconvert_exporter": "python",
   "pygments_lexer": "ipython3",
   "version": "3.13.2"
  }
 },
 "nbformat": 4,
 "nbformat_minor": 5
}
